{
 "cells": [
  {
   "cell_type": "code",
   "execution_count": 3,
   "id": "8f6343dd-e843-48fc-8ef3-69938e843484",
   "metadata": {},
   "outputs": [
    {
     "name": "stdout",
     "output_type": "stream",
     "text": [
      "Entschuldigung, du bist noch nicht alt genug, um einzutreten.\n"
     ]
    }
   ],
   "source": [
    "#Aufgabendefinition: Alter überprüfen am Eingang einer Bar\n",
    "age = int(input(\"wie alt bist du? : \"))\n",
    "if age >= 20:\n",
    "    print(\"Willkommen in der Bar!\")\n",
    "elif age < 20:\n",
    "    print(\"Entschuldigung, du bist noch nicht alt genug, um einzutreten.\")\n",
    "else:\n",
    "    print(\"Ungültige Eingabe. Bitte geben Sie Ihr Alter als ganze Zahl ein.\")\n"
   ]
  },
  {
   "cell_type": "code",
   "execution_count": 21,
   "id": "9d0ecfcb-cde0-4d74-aec9-67ddb2867f73",
   "metadata": {},
   "outputs": [
    {
     "name": "stdout",
     "output_type": "stream",
     "text": [
      "Wie alt bist du? :  abc\n"
     ]
    },
    {
     "name": "stdout",
     "output_type": "stream",
     "text": [
      "Ungültige Eingabe. Bitte geben Sie Ihr Alter als ganze Zahl ein.\n"
     ]
    }
   ],
   "source": [
    "try:\n",
    "    age = int(input(\"Wie alt bist du? : \"))\n",
    "    if age >= 20:\n",
    "        print(\"Willkommen in der Bar!\")\n",
    "    else:\n",
    "        print(\"Entschuldigung, du bist noch nicht alt genug, um einzutreten.\")\n",
    "except ValueError:\n",
    "    print(\"Ungültige Eingabe. Bitte geben Sie Ihr Alter als ganze Zahl ein.\")"
   ]
  },
  {
   "cell_type": "code",
   "execution_count": 6,
   "id": "d71686c6-f337-4d0f-8f87-6367c7272af8",
   "metadata": {},
   "outputs": [
    {
     "name": "stdout",
     "output_type": "stream",
     "text": [
      "Eintrag hinzugefügt!\n",
      " \n"
     ]
    },
    {
     "ename": "ValueError",
     "evalue": "invalid literal for int() with base 10: ''",
     "output_type": "error",
     "traceback": [
      "\u001b[0;31m---------------------------------------------------------------------------\u001b[0m",
      "\u001b[0;31mValueError\u001b[0m                                Traceback (most recent call last)",
      "Cell \u001b[0;32mIn[6], line 12\u001b[0m\n\u001b[1;32m     10\u001b[0m my_telefonbuch \u001b[38;5;241m=\u001b[39m {}\n\u001b[1;32m     11\u001b[0m \u001b[38;5;28;01mwhile\u001b[39;00m \u001b[38;5;28;01mTrue\u001b[39;00m:\n\u001b[0;32m---> 12\u001b[0m     select \u001b[38;5;241m=\u001b[39m \u001b[38;5;28;43mint\u001b[39;49m\u001b[43m(\u001b[49m\u001b[38;5;28;43minput\u001b[39;49m\u001b[43m(\u001b[49m\u001b[38;5;124;43m\"\u001b[39;49m\u001b[38;5;124;43mbitte Nummer auswaehlen:\u001b[39;49m\u001b[38;5;130;43;01m\\n\u001b[39;49;00m\u001b[38;5;124;43m\"\u001b[39;49m\n\u001b[1;32m     13\u001b[0m \u001b[43m                        \u001b[49m\u001b[38;5;124;43m\"\u001b[39;49m\u001b[38;5;124;43m1.Eintrag hinzufügen:\u001b[39;49m\u001b[38;5;130;43;01m\\n\u001b[39;49;00m\u001b[38;5;124;43m\"\u001b[39;49m\n\u001b[1;32m     14\u001b[0m \u001b[43m                        \u001b[49m\u001b[38;5;124;43m\"\u001b[39;49m\u001b[38;5;124;43m2.Eintrag suchen:\u001b[39;49m\u001b[38;5;130;43;01m\\n\u001b[39;49;00m\u001b[38;5;124;43m\"\u001b[39;49m\n\u001b[1;32m     15\u001b[0m \u001b[43m                        \u001b[49m\u001b[38;5;124;43m\"\u001b[39;49m\u001b[38;5;124;43m3.Eintrag aktualisieren:\u001b[39;49m\u001b[38;5;130;43;01m\\n\u001b[39;49;00m\u001b[38;5;124;43m\"\u001b[39;49m\n\u001b[1;32m     16\u001b[0m \u001b[43m                        \u001b[49m\u001b[38;5;124;43m\"\u001b[39;49m\u001b[38;5;124;43m4.Eintrag löschen:\u001b[39;49m\u001b[38;5;130;43;01m\\n\u001b[39;49;00m\u001b[38;5;124;43m\"\u001b[39;49m\n\u001b[1;32m     17\u001b[0m \u001b[43m                        \u001b[49m\u001b[38;5;124;43m\"\u001b[39;49m\u001b[38;5;124;43m5.Telefonbuch anzeigen:\u001b[39;49m\u001b[38;5;130;43;01m\\n\u001b[39;49;00m\u001b[38;5;124;43m\"\u001b[39;49m\n\u001b[1;32m     18\u001b[0m \u001b[43m                        \u001b[49m\u001b[38;5;124;43m\"\u001b[39;49m\u001b[38;5;124;43m6.Beenden:\u001b[39;49m\u001b[38;5;130;43;01m\\n\u001b[39;49;00m\u001b[38;5;124;43m\"\u001b[39;49m\u001b[43m  \u001b[49m\n\u001b[1;32m     19\u001b[0m \u001b[43m                        \u001b[49m\u001b[38;5;124;43m\"\u001b[39;49m\u001b[38;5;124;43mIhre Auswahl: \u001b[39;49m\u001b[38;5;124;43m\"\u001b[39;49m\u001b[43m)\u001b[49m\u001b[43m)\u001b[49m\n\u001b[1;32m     20\u001b[0m     \u001b[38;5;28;01mif\u001b[39;00m select \u001b[38;5;241m==\u001b[39m \u001b[38;5;241m1\u001b[39m:\n\u001b[1;32m     21\u001b[0m         name \u001b[38;5;241m=\u001b[39m \u001b[38;5;28minput\u001b[39m(\u001b[38;5;124m\"\u001b[39m\u001b[38;5;124mbitte geben Sie Ihren Namen ein: \u001b[39m\u001b[38;5;124m\"\u001b[39m)\n",
      "\u001b[0;31mValueError\u001b[0m: invalid literal for int() with base 10: ''"
     ]
    }
   ],
   "source": [
    "###### Telefonbuch erstellen mit einem Dictionary\n",
    "import sqlite3\n",
    "\n",
    "conn = sqlite3.connect(\"telefonbuch.db\")\n",
    "cur = conn.cursor()\n",
    "\n",
    "# Setup database table\n",
    "cur.execute(\"CREATE TABLE IF NOT EXISTS telefonnummern (id INTEGER PRIMARY KEY AUTOINCREMENT, name TEXT NOT NULL, telefonnummer TEXT NOT NULL);\")\n",
    "\n",
    "my_telefonbuch = {}\n",
    "while True:\n",
    "    select = int(input(\"bitte Nummer auswaehlen:\\n\"\n",
    "                        \"1.Eintrag hinzufügen:\\n\"\n",
    "                        \"2.Eintrag suchen:\\n\"\n",
    "                        \"3.Eintrag aktualisieren:\\n\"\n",
    "                        \"4.Eintrag löschen:\\n\"\n",
    "                        \"5.Telefonbuch anzeigen:\\n\"\n",
    "                        \"6.Beenden:\\n\"  \n",
    "                        \"Ihre Auswahl: \"))\n",
    "    if select == 1:\n",
    "        name = input(\"bitte geben Sie Ihren Namen ein: \")\n",
    "        telefonnummer = input(\"bitte geben Sie Ihre Telefonnummer ein: \")\n",
    "        # cur.execute(f\"INSERT INTO telefonnummern (name, telefonnummer) VALUES ('{name}', '{telefonnummer}');\") # Anfällig für SQL Injection, bitte niemals so verwenden!\n",
    "        # Besser mit prepared statements wie hier (das Fragezeichen wird als Datum vom Benutzer interpretiert und niemals fälschlich als Teil der SQL-Abfrage interpretiert)\n",
    "        cur.execute(\"INSERT INTO telefonnummern (name, telefonnummer) VALUES (?, ?);\", [name, telefonnummer])\n",
    "        conn.commit()\n",
    "        # my_telefonbuch = {\"name\":name, \"Telefonnummer\":telefonnummer}\n",
    "        print(\"Eintrag hinzugefügt!\")\n",
    "        print(name, telefonnummer)\n",
    "        \n",
    "    elif select == 2:\n",
    "        search_name = input(\"bitte geben Sie eine Name ein: \")\n",
    "        # cur.execute(f\"SELECT name, telefonnummer FROM telefonnummern WHERE name = '{search_name}' COLLATE NOCASE;\") # Anfällig für SQL Injection, bitte niemals so verwenden!\n",
    "        # Besser mit prepared statements wie hier (das Fragezeichen wird als Datum vom Benutzer interpretiert und niemals fälschlich als Teil der SQL-Abfrage interpretiert)\n",
    "        cur.execute(\"SELECT name, telefonnummer FROM telefonnummern WHERE name = ? COLLATE NOCASE;\", [search_name])\n",
    "        result = cur.fetchone()\n",
    "        if result is None:\n",
    "            print(\"Den Namen habe ich nicht gespeichert!\")\n",
    "        else:\n",
    "            print(f\"{result[0]}: {result[1]}\")\n",
    "            \n",
    "    elif select ==3:\n",
    "        new_name = input(\"bitte geben Sie Name ein, die Sie aktualisieren moechten:  \")\n",
    "        new_tel = int(input(\"bitte geben Sie die Telefonnummer ein, die Sie aktualisieren moechten:  \"))\n",
    "        cur.execute(\"INSERT INTO telefonnummern (name, telefonnummer) VALUES (?, ?);\", [new_name, new_tel])\n",
    "        conn.commit()\n",
    "        print(\"Eintrag aktualisiert!\")\n",
    "        print(new_name, new_tel)\n",
    "        \n",
    "    elif select ==4:\n",
    "        delete_name = input(\"Weleche Name moechten Sie loeschen?: \")\n",
    "        cur.execute(\"SELECT name, telefonnummer FROM telefonnummern WHERE name = ? COLLATE NOCASE;\", [delete_name])\n",
    "        result = cur.fetchone()\n",
    "        if result is None:\n",
    "            print(\"Den Namen habe ich nicht gespeichert!\")\n",
    "        else:\n",
    "            cur.execute(\"DELETE FROM telefonnummern WHERE name AND telefonnummer =? COLLATE NOCASE;\",[delete_name])\n",
    "        print(f\"{result[0]}: {result[1]} ist geloescht\")\n",
    "\n",
    "    elif select ==5:\n",
    "         cur.execute(\"SELECT * FROM telefonnummern\")\n",
    "         result = cur.fetchall()\n",
    "         print({result})\n",
    "\n",
    "    #cur.execute(\"SELECT name FROM sqlite_master WHERE type='table';\")\n",
    "    #tables = cur.fetchall()\n",
    "    #print(\"Tables in the database:\", tables)\n",
    "        \n",
    "    elif select == 6:\n",
    "        print(\"Das Programm wird beendet.\")\n",
    "        conn.close()\n",
    "        break\n",
    "\n"
   ]
  },
  {
   "cell_type": "code",
   "execution_count": 2,
   "id": "a4ea48fa-2551-4f5c-8d31-978fe6c4dbea",
   "metadata": {},
   "outputs": [
    {
     "name": "stdout",
     "output_type": "stream",
     "text": [
      "bitte Nummer auswaehlen:\n",
      "1.Eintrag hinzufügen:\n",
      "2.Eintrag suchen:\n",
      "3.Eintrag aktualisieren:\n",
      "4.Eintrag löschen:\n",
      "5.Telefonbuch anzeigen:\n",
      "6.Beenden:\n",
      "Ihre Auswahl:  5\n"
     ]
    },
    {
     "name": "stdout",
     "output_type": "stream",
     "text": [
      "[(2, 'peter', '123456'), (4, 'kaho ', '12345'), (7, 'brot', '4')]\n"
     ]
    },
    {
     "name": "stdout",
     "output_type": "stream",
     "text": [
      "bitte Nummer auswaehlen:\n",
      "1.Eintrag hinzufügen:\n",
      "2.Eintrag suchen:\n",
      "3.Eintrag aktualisieren:\n",
      "4.Eintrag löschen:\n",
      "5.Telefonbuch anzeigen:\n",
      "6.Beenden:\n",
      "Ihre Auswahl:  6\n"
     ]
    },
    {
     "name": "stdout",
     "output_type": "stream",
     "text": [
      "Das Programm wird beendet.\n"
     ]
    }
   ],
   "source": [
    "import sqlite3\n",
    "\n",
    "conn = sqlite3.connect(\"telefonbuch.db\")\n",
    "cur = conn.cursor()\n",
    "\n",
    "# Setup database table\n",
    "cur.execute(\"CREATE TABLE IF NOT EXISTS telefonnummern (id INTEGER PRIMARY KEY AUTOINCREMENT, name TEXT NOT NULL, telefonnummer TEXT NOT NULL);\")\n",
    "\n",
    "my_telefonbuch = {}\n",
    "while True:\n",
    "    select = int(input(\"bitte Nummer auswaehlen:\\n\"\n",
    "                        \"1.Eintrag hinzufügen:\\n\"\n",
    "                        \"2.Eintrag suchen:\\n\"\n",
    "                        \"3.Eintrag aktualisieren:\\n\"\n",
    "                        \"4.Eintrag löschen:\\n\"\n",
    "                        \"5.Telefonbuch anzeigen:\\n\"\n",
    "                        \"6.Beenden:\\n\"  \n",
    "                        \"Ihre Auswahl: \"))\n",
    "    if select == 1:\n",
    "        name = input(\"bitte geben Sie Ihren Namen ein: \")\n",
    "        telefonnummer = input(\"bitte geben Sie Ihre Telefonnummer ein: \")\n",
    "        cur.execute(\"INSERT INTO telefonnummern (name, telefonnummer) VALUES (?, ?);\", [name, telefonnummer])\n",
    "        conn.commit()\n",
    "        # my_telefonbuch = {\"name\":name, \"Telefonnummer\":telefonnummer}\n",
    "        print(\"Eintrag hinzugefügt!\")\n",
    "        print(name, telefonnummer)\n",
    "        \n",
    "    elif select == 2:\n",
    "        search_name = input(\"bitte geben Sie eine Name ein: \")\n",
    "        cur.execute(\"SELECT name, telefonnummer FROM telefonnummern WHERE name = ? COLLATE NOCASE;\", [search_name])\n",
    "        result = cur.fetchone()\n",
    "        if result is None:\n",
    "            print(\"Den Namen habe ich nicht gespeichert!\")\n",
    "        else:\n",
    "            print(f\"{result[0]}: {result[1]}\")\n",
    "            \n",
    "    elif select ==3:\n",
    "        new_name = input(\"bitte geben Sie Name ein, die Sie aktualisieren moechten:  \")\n",
    "        new_tel = int(input(\"bitte geben Sie die Telefonnummer ein, die Sie aktualisieren moechten:  \"))\n",
    "        cur.execute(\"INSERT INTO telefonnummern (name, telefonnummer) VALUES (?, ?);\", [new_name, new_tel])\n",
    "        conn.commit()\n",
    "        print(\"Eintrag aktualisiert!\")\n",
    "        print(new_name, new_tel)\n",
    "        \n",
    "    elif select ==4:\n",
    "        delete_name = input(\"Weleche Name moechten Sie loeschen?: \")\n",
    "        cur.execute(\"SELECT name, telefonnummer FROM telefonnummern WHERE name = ? COLLATE NOCASE;\", [delete_name])\n",
    "        result = cur.fetchone()\n",
    "        if result is None:\n",
    "            print(\"Den Namen habe ich nicht gespeichert!\")\n",
    "        else:\n",
    "            cur.execute(\"DELETE FROM telefonnummern WHERE name =? COLLATE NOCASE;\",[delete_name])\n",
    "            conn.commit()\n",
    "        print(f\"{result[0]}: {result[1]} ist geloescht\")\n",
    "\n",
    "    elif select ==5:\n",
    "         cur.execute(\"SELECT * FROM telefonnummern\")\n",
    "         result = cur.fetchall()\n",
    "         print(result)\n",
    "        \n",
    "    elif select == 6:\n",
    "        print(\"Das Programm wird beendet.\")\n",
    "        conn.close()\n",
    "        break\n",
    "\n"
   ]
  },
  {
   "cell_type": "code",
   "execution_count": 23,
   "id": "881c9020-7bad-4140-bb04-6aefe9a8d7b0",
   "metadata": {},
   "outputs": [
    {
     "name": "stdin",
     "output_type": "stream",
     "text": [
      "bitte Nummer auswaehlen: \n",
      "1.Artikel hinzufügen: \n",
      "2.Artikel überprüfen: \n",
      "3.Artikel entfernen: \n",
      "4.Einkaufsliste anzeigen: \n",
      "5.Beenden:\n",
      "Ihre Auswahl:   7\n"
     ]
    },
    {
     "name": "stdout",
     "output_type": "stream",
     "text": [
      "Ungültige Option!\n"
     ]
    },
    {
     "name": "stdin",
     "output_type": "stream",
     "text": [
      "bitte Nummer auswaehlen: \n",
      "1.Artikel hinzufügen: \n",
      "2.Artikel überprüfen: \n",
      "3.Artikel entfernen: \n",
      "4.Einkaufsliste anzeigen: \n",
      "5.Beenden:\n",
      "Ihre Auswahl:   aa\n"
     ]
    },
    {
     "ename": "ValueError",
     "evalue": "invalid literal for int() with base 10: 'aa'",
     "output_type": "error",
     "traceback": [
      "\u001b[0;31m---------------------------------------------------------------------------\u001b[0m",
      "\u001b[0;31mValueError\u001b[0m                                Traceback (most recent call last)",
      "Cell \u001b[0;32mIn[23], line 14\u001b[0m\n\u001b[1;32m     12\u001b[0m     \u001b[38;5;28;01mreturn\u001b[39;00m exists\n\u001b[1;32m     13\u001b[0m \u001b[38;5;28;01mwhile\u001b[39;00m \u001b[38;5;28;01mTrue\u001b[39;00m:\n\u001b[0;32m---> 14\u001b[0m     option \u001b[38;5;241m=\u001b[39m \u001b[38;5;28;43mint\u001b[39;49m\u001b[43m(\u001b[49m\u001b[38;5;28;43minput\u001b[39;49m\u001b[43m(\u001b[49m\u001b[38;5;124;43m\"\u001b[39;49m\u001b[38;5;124;43mbitte Nummer auswaehlen: \u001b[39;49m\u001b[38;5;130;43;01m\\n\u001b[39;49;00m\u001b[38;5;124;43m\"\u001b[39;49m\n\u001b[1;32m     15\u001b[0m \u001b[43m                      \u001b[49m\u001b[38;5;124;43m\"\u001b[39;49m\u001b[38;5;124;43m1.Artikel hinzufügen: \u001b[39;49m\u001b[38;5;130;43;01m\\n\u001b[39;49;00m\u001b[38;5;124;43m\"\u001b[39;49m\n\u001b[1;32m     16\u001b[0m \u001b[43m                      \u001b[49m\u001b[38;5;124;43m\"\u001b[39;49m\u001b[38;5;124;43m2.Artikel überprüfen: \u001b[39;49m\u001b[38;5;130;43;01m\\n\u001b[39;49;00m\u001b[38;5;124;43m\"\u001b[39;49m\n\u001b[1;32m     17\u001b[0m \u001b[43m                      \u001b[49m\u001b[38;5;124;43m\"\u001b[39;49m\u001b[38;5;124;43m3.Artikel entfernen: \u001b[39;49m\u001b[38;5;130;43;01m\\n\u001b[39;49;00m\u001b[38;5;124;43m\"\u001b[39;49m\n\u001b[1;32m     18\u001b[0m \u001b[43m                      \u001b[49m\u001b[38;5;124;43m\"\u001b[39;49m\u001b[38;5;124;43m4.Einkaufsliste anzeigen: \u001b[39;49m\u001b[38;5;130;43;01m\\n\u001b[39;49;00m\u001b[38;5;124;43m\"\u001b[39;49m\n\u001b[1;32m     19\u001b[0m \u001b[43m                      \u001b[49m\u001b[38;5;124;43m\"\u001b[39;49m\u001b[38;5;124;43m5.Beenden:\u001b[39;49m\u001b[38;5;130;43;01m\\n\u001b[39;49;00m\u001b[38;5;124;43m\"\u001b[39;49m\n\u001b[1;32m     20\u001b[0m \u001b[43m                      \u001b[49m\u001b[38;5;124;43m\"\u001b[39;49m\u001b[38;5;124;43mIhre Auswahl:  \u001b[39;49m\u001b[38;5;124;43m\"\u001b[39;49m\u001b[43m)\u001b[49m\u001b[43m)\u001b[49m\n\u001b[1;32m     21\u001b[0m     \u001b[38;5;28;01mif\u001b[39;00m option \u001b[38;5;241m==\u001b[39m \u001b[38;5;241m1\u001b[39m:\n\u001b[1;32m     22\u001b[0m         artikel_eingabe \u001b[38;5;241m=\u001b[39m \u001b[38;5;28minput\u001b[39m(\u001b[38;5;124m\"\u001b[39m\u001b[38;5;124mGeben Sie die Artikel ein, die Sie hinzufügen möchten: \u001b[39m\u001b[38;5;124m\"\u001b[39m)\n",
      "\u001b[0;31mValueError\u001b[0m: invalid literal for int() with base 10: 'aa'"
     ]
    }
   ],
   "source": [
    "##### Aufgabendefinition: Einkaufsliste mit einem Array erstellen\n",
    "import sqlite3\n",
    "import re\n",
    "conn = sqlite3.connect(\"einkaufslist.db\")\n",
    "cur = conn.cursor()\n",
    "\n",
    "# Setup database table\n",
    "cur.execute(\"CREATE TABLE IF NOT EXISTS artikelliste(id INTEGER PRIMARY KEY AUTOINCREMENT, artikel TEXT NOT NULL);\")\n",
    "def artikel_in_liste(artikel):\n",
    "    cur.execute(\"SELECT 1 FROM artikelliste WHERE artikel = ?;\", [artikel])\n",
    "    exists = cur.fetchone()\n",
    "    return exists\n",
    "while True:\n",
    "    option = int(input(\"bitte Nummer auswaehlen: \\n\"\n",
    "                      \"1.Artikel hinzufügen: \\n\"\n",
    "                      \"2.Artikel überprüfen: \\n\"\n",
    "                      \"3.Artikel entfernen: \\n\"\n",
    "                      \"4.Einkaufsliste anzeigen: \\n\"\n",
    "                      \"5.Beenden:\\n\"\n",
    "                      \"Ihre Auswahl:  \"))\n",
    "    if option == 1:\n",
    "        artikel_eingabe = input(\"Geben Sie die Artikel ein, die Sie hinzufügen möchten: \")\n",
    "        artikel_liste = re.split(r'\\W+', artikel_eingabe)\n",
    "        for artikel in artikel_liste:\n",
    "            if artikel_in_liste(artikel):\n",
    "                print(\"Artikel war bereits auf der Liste:\", artikel)\n",
    "            else:\n",
    "                cur.execute(\"INSERT INTO artikelliste (artikel) VALUES(?);\",[artikel])\n",
    "                conn.commit()\n",
    "                print(\"Artikel hinzugefügt:\", artikel)\n",
    "    elif option == 2:\n",
    "        artikel_suchen =input(\"Geben Sie den Artikel ein, den Sie überprüfen möchten: \")\n",
    "        if artikel_in_liste(artikel_suchen):\n",
    "            print(f\"{artikel_suchen} steht bereits auf der Einkaufsliste.\")\n",
    "        else:\n",
    "            print(f\"{artikel_suchen} ist nicht auf der Einkaufsliste.\")\n",
    "    elif option == 3:\n",
    "        entfernungsartikel = input(\"Geben Sie den Artikel ein, den Sie von der Einkaufsliste entfernen möchten: \")\n",
    "        if artikel_in_liste(entfernungsartikel):\n",
    "            cur.execute(\"DELETE FROM artikelliste WHERE artikel =?;\",[entfernungsartikel])\n",
    "            conn.commit()\n",
    "            print(f\"{entfernungsartikel} wurde von der Einkaufsliste entfernt.\")\n",
    "        else:\n",
    "            print(f\"{entfernungsartikel} ist nicht auf der Einkaufsliste.\")\n",
    "    elif option == 4:\n",
    "        cur.execute(\"SELECT artikel FROM artikelliste;\")\n",
    "        alle_artikeln = cur.fetchall()\n",
    "        print(\"Einkaufsliste:\")\n",
    "        for artikel in alle_artikeln:\n",
    "            print(\"-\", artikel[0])\n",
    "    elif option == 5:\n",
    "        print(\"Das Programm wird beendet.\")\n",
    "        conn.close()\n",
    "        break\n",
    "    else:\n",
    "        print(\"Ungültige Option!\")"
   ]
  },
  {
   "cell_type": "code",
   "execution_count": 1,
   "id": "64a125d5-93bb-4d30-b9f2-25e1c438c223",
   "metadata": {},
   "outputs": [],
   "source": [
    "#hier ist neue einkaufsliste"
   ]
  },
  {
   "cell_type": "code",
   "execution_count": null,
   "id": "7299ec7a-9000-4da8-86fa-9e2d81d478f8",
   "metadata": {},
   "outputs": [],
   "source": []
  }
 ],
 "metadata": {
  "kernelspec": {
   "display_name": "Python 3 (ipykernel)",
   "language": "python",
   "name": "python3"
  },
  "language_info": {
   "codemirror_mode": {
    "name": "ipython",
    "version": 3
   },
   "file_extension": ".py",
   "mimetype": "text/x-python",
   "name": "python",
   "nbconvert_exporter": "python",
   "pygments_lexer": "ipython3",
   "version": "3.10.12"
  }
 },
 "nbformat": 4,
 "nbformat_minor": 5
}
