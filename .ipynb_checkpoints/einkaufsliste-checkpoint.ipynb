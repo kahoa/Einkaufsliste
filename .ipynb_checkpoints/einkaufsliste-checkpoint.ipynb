{
 "cells": [
  {
   "cell_type": "code",
   "execution_count": 2,
   "id": "ce49257d-69de-4e1f-bdc5-7ce49f7463eb",
   "metadata": {},
   "outputs": [
    {
     "name": "stdin",
     "output_type": "stream",
     "text": [
      "bitte Nummer auswaehlen: \n",
      "1.Artikel hinzufügen: \n",
      "2.Artikel überprüfen: \n",
      "3.Artikel entfernen: \n",
      "4.Einkaufsliste anzeigen: \n",
      "5.Einkaufssumme eingeben: \n",
      "6.Beenden:\n",
      "Ihre Auswahl:   1\n",
      "Geben Sie die Artikel ein, die Sie hinzufügen möchten:  banana\n",
      "Geben Sie den Preis für banana ein:  1.25\n"
     ]
    },
    {
     "name": "stdout",
     "output_type": "stream",
     "text": [
      "Artikel und Preis hinzugefügt: banana 1.25\n"
     ]
    },
    {
     "name": "stdin",
     "output_type": "stream",
     "text": [
      "bitte Nummer auswaehlen: \n",
      "1.Artikel hinzufügen: \n",
      "2.Artikel überprüfen: \n",
      "3.Artikel entfernen: \n",
      "4.Einkaufsliste anzeigen: \n",
      "5.Einkaufssumme eingeben: \n",
      "6.Beenden:\n",
      "Ihre Auswahl:   4\n"
     ]
    },
    {
     "name": "stdout",
     "output_type": "stream",
     "text": [
      "Einkaufsliste:\n",
      "- banana\n"
     ]
    },
    {
     "name": "stdin",
     "output_type": "stream",
     "text": [
      "bitte Nummer auswaehlen: \n",
      "1.Artikel hinzufügen: \n",
      "2.Artikel überprüfen: \n",
      "3.Artikel entfernen: \n",
      "4.Einkaufsliste anzeigen: \n",
      "5.Einkaufssumme eingeben: \n",
      "6.Beenden:\n",
      "Ihre Auswahl:   5\n"
     ]
    },
    {
     "name": "stdout",
     "output_type": "stream",
     "text": [
      "Einkaufssumme:[(1.25,)]\n"
     ]
    },
    {
     "name": "stdin",
     "output_type": "stream",
     "text": [
      "bitte Nummer auswaehlen: \n",
      "1.Artikel hinzufügen: \n",
      "2.Artikel überprüfen: \n",
      "3.Artikel entfernen: \n",
      "4.Einkaufsliste anzeigen: \n",
      "5.Einkaufssumme eingeben: \n",
      "6.Beenden:\n",
      "Ihre Auswahl:   6\n"
     ]
    },
    {
     "name": "stdout",
     "output_type": "stream",
     "text": [
      "Das Programm wird beendet.\n"
     ]
    }
   ],
   "source": [
    "##### Aufgabendefinition: Einkaufsliste mit einem Array erstellen\n",
    "import sqlite3\n",
    "import re\n",
    "conn = sqlite3.connect(\"einkaufslist.db\")\n",
    "cur = conn.cursor()\n",
    "\n",
    "# Setup database table\n",
    "cur.execute(\"DROP TABLE IF EXISTS artikelliste;\")\n",
    "cur.execute(\"CREATE TABLE IF NOT EXISTS artikelliste(id INTEGER PRIMARY KEY AUTOINCREMENT, artikel TEXT NOT NULL, preis REAL);\")\n",
    "def artikel_in_liste(artikel):\n",
    "    cur.execute(\"SELECT 1 FROM artikelliste WHERE artikel = ?;\", [artikel])\n",
    "    exists = cur.fetchone()\n",
    "    return exists\n",
    "\n",
    "while True:\n",
    "    option = int(input(\"bitte Nummer auswaehlen: \\n\"\n",
    "                      \"1.Artikel hinzufügen: \\n\"\n",
    "                      \"2.Artikel überprüfen: \\n\"\n",
    "                      \"3.Artikel entfernen: \\n\"\n",
    "                      \"4.Einkaufsliste anzeigen: \\n\"\n",
    "                      \"5.Einkaufssumme eingeben: \\n\"\n",
    "                      \"6.Beenden:\\n\"\n",
    "                      \"Ihre Auswahl:  \"))\n",
    "    if option == 1:\n",
    "        artikel_eingabe = input(\"Geben Sie die Artikel ein, die Sie hinzufügen möchten: \")\n",
    "        artikel_liste = re.split(r'\\W+', artikel_eingabe)\n",
    "        for artikel in artikel_liste:\n",
    "            if artikel_in_liste(artikel):\n",
    "                print(\"Artikel war bereits auf der Liste:\", artikel)\n",
    "            else:\n",
    "                preis = float(input(f\"Geben Sie den Preis für {artikel} ein: \"))\n",
    "                cur.execute(\"INSERT INTO artikelliste (artikel,preis) VALUES(?,?);\",[artikel,preis])\n",
    "                conn.commit()\n",
    "                print(\"Artikel und Preis hinzugefügt:\", artikel,preis)\n",
    "          \n",
    "    elif option == 2:\n",
    "        artikel_suchen =input(\"Geben Sie den Artikel ein, den Sie überprüfen möchten: \")\n",
    "        if artikel_in_liste(artikel_suchen):\n",
    "            print(f\"{artikel_suchen} steht bereits auf der Einkaufsliste.\")\n",
    "        else:\n",
    "            print(f\"{artikel_suchen} ist nicht auf der Einkaufsliste.\")\n",
    "    elif option == 3:\n",
    "        entfernungsartikel = input(\"Geben Sie den Artikel ein, den Sie von der Einkaufsliste entfernen möchten: \")\n",
    "        if artikel_in_liste(entfernungsartikel):\n",
    "            cur.execute(\"DELETE FROM artikelliste WHERE artikel =?;\",[entfernungsartikel])\n",
    "            conn.commit()\n",
    "            print(f\"{entfernungsartikel} wurde von der Einkaufsliste entfernt.\")\n",
    "        else:\n",
    "            print(f\"{entfernungsartikel} ist nicht auf der Einkaufsliste.\")\n",
    "    elif option == 4:\n",
    "        cur.execute(\"SELECT artikel FROM artikelliste;\")\n",
    "        alle_artikeln = cur.fetchall()\n",
    "        print(\"Einkaufsliste:\")\n",
    "        for artikel in alle_artikeln:\n",
    "            print(\"-\", artikel[0])\n",
    "    elif option ==5:\n",
    "            cur.execute(\"SELECT preis FROM artikelliste;\")\n",
    "            summe =cur.fetchall()\n",
    "            print(f\"Einkaufssumme:{summe}\")\n",
    "        \n",
    "    elif option == 6:\n",
    "        print(\"Das Programm wird beendet.\")\n",
    "        conn.close()\n",
    "        break\n",
    "    else:\n",
    "        print(\"Ungültige Option!\")"
   ]
  },
  {
   "cell_type": "code",
   "execution_count": null,
   "id": "e2ee2fd2-3b9b-40d4-b423-d4f4d04137b1",
   "metadata": {},
   "outputs": [],
   "source": []
  }
 ],
 "metadata": {
  "kernelspec": {
   "display_name": "Python 3 (ipykernel)",
   "language": "python",
   "name": "python3"
  },
  "language_info": {
   "codemirror_mode": {
    "name": "ipython",
    "version": 3
   },
   "file_extension": ".py",
   "mimetype": "text/x-python",
   "name": "python",
   "nbconvert_exporter": "python",
   "pygments_lexer": "ipython3",
   "version": "3.10.12"
  }
 },
 "nbformat": 4,
 "nbformat_minor": 5
}
