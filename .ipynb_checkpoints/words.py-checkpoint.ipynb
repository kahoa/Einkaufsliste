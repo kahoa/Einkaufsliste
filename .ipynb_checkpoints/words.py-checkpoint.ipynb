{
 "cells": [
  {
   "cell_type": "code",
   "execution_count": 4,
   "id": "94ed4b6c-127b-4148-ab1b-8848f1c42e2b",
   "metadata": {},
   "outputs": [
    {
     "data": {
      "text/plain": [
       "['K', 'a', 'h', 'o']"
      ]
     },
     "execution_count": 4,
     "metadata": {},
     "output_type": "execute_result"
    }
   ],
   "source": [
    "def words_to_letters(word):\n",
    "    return list(word)\n",
    "    \n",
    "if __name__ == \"__main__\":\n",
    "    if len(sys.argv) > 1:\n",
    "        word = sys.argv[1]\n",
    "        result = words_to_letters(word)\n",
    "        print(result)\n",
    "    else:\n",
    "        print(\"Bitte geben Sie ein Wort als Argument an.\")\n"
   ]
  },
  {
   "cell_type": "code",
   "execution_count": null,
   "id": "c520bd88-d04a-43d5-a991-0d6b7e4ea8a4",
   "metadata": {},
   "outputs": [],
   "source": []
  }
 ],
 "metadata": {
  "kernelspec": {
   "display_name": "Python 3 (ipykernel)",
   "language": "python",
   "name": "python3"
  },
  "language_info": {
   "codemirror_mode": {
    "name": "ipython",
    "version": 3
   },
   "file_extension": ".py",
   "mimetype": "text/x-python",
   "name": "python",
   "nbconvert_exporter": "python",
   "pygments_lexer": "ipython3",
   "version": "3.10.12"
  }
 },
 "nbformat": 4,
 "nbformat_minor": 5
}
